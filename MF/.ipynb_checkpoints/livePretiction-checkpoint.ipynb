{
 "cells": [
  {
   "cell_type": "code",
   "execution_count": 57,
   "metadata": {
    "collapsed": false
   },
   "outputs": [],
   "source": [
    "import pickle\n",
    "import json\n",
    "import pandas as pd\n",
    "\n",
    "with open('user_features.dat', 'rb') as f:\n",
    "    U = pickle.load(f, encoding='latin1')\n",
    "with open('product_features.dat', 'rb') as f:\n",
    "    M = pickle.load(f, encoding='latin1')\n",
    "with open('predicted_ratings.dat', 'rb') as f:\n",
    "    predicted_ratings = pickle.load(f, encoding='latin1')\n",
    "\n",
    "with open('movies.json') as data_file:    \n",
    "    movies_df = json.load(data_file)\n",
    "    "
   ]
  },
  {
   "cell_type": "code",
   "execution_count": 56,
   "metadata": {
    "collapsed": false
   },
   "outputs": [
    {
     "name": "stdout",
     "output_type": "stream",
     "text": [
      "Movies we will recommend:\n",
      "[{'genre': 'reality', 'title': 'Just a Regular Family', 'movie_id': 4, 'rating': 3.2881801045677181}, {'genre': 'crime drama, western', 'title': 'The Sheriff 1', 'movie_id': 1, 'rating': 3.0771439257121642}, {'genre': 'detective drama, mystery', 'title': 'Inspector Jackson', 'movie_id': 11, 'rating': 3.0300498566779934}, {'genre': 'crime drama', 'title': 'Drugs & Guns', 'movie_id': 25, 'rating': 2.9836407339119639}, {'genre': 'sci-fi, action', 'title': 'Attack on Earth 2', 'movie_id': 22, 'rating': 2.9086443239284741}]\n"
     ]
    }
   ],
   "source": [
    "from operator import itemgetter\n",
    "user_id_to_search = 50\n",
    "\n",
    "print(\"Movies we will recommend:\")\n",
    "\n",
    "user_ratings = predicted_ratings[user_id_to_search - 1]\n",
    "i=0\n",
    "for movie in movies_df:\n",
    "    movie['rating'] = user_ratings[i]\n",
    "    i+=1\n",
    "# movies_df = movies_df.sort(key=['rating']) \n",
    "sortedList = sorted(movies_df, key=itemgetter('rating'),reverse=True)\n",
    "# movies_df = movies_df(by=['rating'], ascending=False)\n",
    "\n",
    "print(sortedList[0:5])"
   ]
  }
 ],
 "metadata": {
  "kernelspec": {
   "display_name": "Python 3",
   "language": "python",
   "name": "python3"
  },
  "language_info": {
   "codemirror_mode": {
    "name": "ipython",
    "version": 3
   },
   "file_extension": ".py",
   "mimetype": "text/x-python",
   "name": "python",
   "nbconvert_exporter": "python",
   "pygments_lexer": "ipython3",
   "version": "3.5.2"
  }
 },
 "nbformat": 4,
 "nbformat_minor": 2
}
