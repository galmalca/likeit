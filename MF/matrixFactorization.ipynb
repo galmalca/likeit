{
 "cells": [
  {
   "cell_type": "code",
   "execution_count": 10,
   "metadata": {
    "collapsed": true
   },
   "outputs": [],
   "source": [
    "import pandas as pd\n",
    "import numpy as np\n",
    "import json\n",
    "import pickle\n",
    "\n",
    "with open('movie_ratings_data_set.json') as data_file:\n",
    "    movies_df = json.load(data_file)"
   ]
  },
  {
   "cell_type": "code",
   "execution_count": 94,
   "metadata": {
    "collapsed": false
   },
   "outputs": [],
   "source": [
    "#check number of movies\n",
    "dict = {}\n",
    "for movie in movies_df:\n",
    "    for i in range(len(movie['movie_id'])):\n",
    "        if dict.get(movie['movie_id'][i])==None:\n",
    "            dict[movie['movie_id'][i]]=1\n",
    "\n",
    "\n",
    "a = np.zeros((len(movies_df), len(dict)))\n"
   ]
  },
  {
   "cell_type": "code",
   "execution_count": 95,
   "metadata": {
    "collapsed": false
   },
   "outputs": [
    {
     "data": {
      "text/plain": [
       "array([ 0.,  0.,  0.,  0.,  0.,  0.,  0.,  0.,  0.,  1.,  0.,  0.,  0.,\n",
       "        0.,  0.,  0.,  0.,  0.,  0.,  0.,  0.,  0.,  0.,  0.,  4.,  0.,\n",
       "        0.,  0.,  0.,  4.])"
      ]
     },
     "execution_count": 95,
     "metadata": {},
     "output_type": "execute_result"
    }
   ],
   "source": [
    "i=0\n",
    "for movie in movies_df:\n",
    "    for j in range(len(movie['movie_id'])):\n",
    "        a[i,movie['movie_id'][j]-1]=movie['rating'][j]\n",
    "    i+=1\n",
    "a[0]"
   ]
  },
  {
   "cell_type": "code",
   "execution_count": 16,
   "metadata": {
    "collapsed": true
   },
   "outputs": [],
   "source": [
    "def matrix_factorization(R, P, Q, K, steps=10, alpha=0.0002, beta=0.02):\n",
    "    Q = Q.T\n",
    "    for step in range(steps):\n",
    "        for i in range(len(R)):\n",
    "            for j in range(len(R[i])):\n",
    "                if R[i][j] > 0:\n",
    "                    eij = R[i][j] - np.dot(P[i,:],Q[:,j])\n",
    "                    for k in range(K):\n",
    "                        P[i][k] = P[i][k] + alpha * (2 * eij * Q[k][j] - beta * P[i][k])\n",
    "                        Q[k][j] = Q[k][j] + alpha * (2 * eij * P[i][k] - beta * Q[k][j])\n",
    "        eR = np.dot(P,Q)\n",
    "        e = 0\n",
    "        for i in range(len(R)):\n",
    "            for j in range(len(R[i])):\n",
    "                if R[i][j] > 0:\n",
    "                    e = e + pow(R[i][j] - np.dot(P[i,:],Q[:,j]), 2)\n",
    "                    for k in range(K):\n",
    "                        e = e + (beta/2) * (pow(P[i][k],2) + pow(Q[k][j],2))\n",
    "        if e < 0.001:\n",
    "            break\n",
    "    return P, Q.T"
   ]
  },
  {
   "cell_type": "code",
   "execution_count": 17,
   "metadata": {
    "collapsed": false
   },
   "outputs": [
    {
     "name": "stdout",
     "output_type": "stream",
     "text": [
      "(700, 30)\n",
      "[[ 1.4464015   1.19551996  1.23985217 ...,  1.26341617  1.20931378\n",
      "   1.28936299]\n",
      " [ 1.49987854  1.2745599   1.27198553 ...,  1.35672262  1.21811976\n",
      "   1.27340022]\n",
      " [ 0.43079331  0.3897655   0.35601828 ...,  0.42135764  0.32545364\n",
      "   0.32247778]\n",
      " ..., \n",
      " [ 1.67823728  1.35055967  1.45297491 ...,  1.4169935   1.44085189\n",
      "   1.56284901]\n",
      " [ 0.69815451  0.64424707  0.57202139 ...,  0.69969228  0.51446982\n",
      "   0.49963193]\n",
      " [ 0.79520823  0.56428473  0.71823823 ...,  0.57023268  0.7607015\n",
      "   0.87872515]]\n"
     ]
    }
   ],
   "source": [
    "R = a\n",
    "R = np.array(R)\n",
    "\n",
    "N = len(R)\n",
    "M = len(R[0])\n",
    "K = 2\n",
    "\n",
    "P = np.random.rand(N, K)\n",
    "Q = np.random.rand(M, K)\n",
    "\n",
    "nP, nQ = matrix_factorization(R, P, Q, K)\n",
    "nR = np.dot(nP, nQ.T)\n",
    "\n",
    "pickle.dump(P, open(\"user_features.dat\", \"wb\"))\n",
    "pickle.dump(Q, open(\"product_features.dat\", \"wb\"))\n",
    "pickle.dump(nR, open(\"predicted_ratings.dat\", \"wb\"))\n",
    "\n",
    "print(nR.shape)\n",
    "print(nR)"
   ]
  },
  {
   "cell_type": "code",
   "execution_count": 26,
   "metadata": {
    "collapsed": true
   },
   "outputs": [],
   "source": [
    "def livePrediction(pathToUersFeatures, pathToProductFeatures, pathToPredictedRatings, user_id):\n",
    "        with open(pathToUersFeatures, 'rb') as f:\n",
    "            U = pickle.load(f, encoding='latin1')\n",
    "        with open(pathToProductFeatures, 'rb') as f:\n",
    "            M = pickle.load(f, encoding='latin1')\n",
    "        with open(pathToPredictedRatings, 'rb') as f:\n",
    "            predicted_ratings = pickle.load(f, encoding='latin1')\n",
    "        with open('movies.json') as data_file:\n",
    "            movies_df = json.load(data_file)\n",
    "\n",
    "        from operator import itemgetter\n",
    "        user_id_to_search = user_id\n",
    "        print(\"Movies we will recommend:\")\n",
    "        user_ratings = predicted_ratings[user_id_to_search - 1]\n",
    "        i = 0\n",
    "        for movie in movies_df:\n",
    "            print(movie)\n",
    "            movie['rating'] = user_ratings[i]\n",
    "            print(movie)\n",
    "            i += 1\n",
    "        # movies_df = movies_df.sort(key=['rating'])\n",
    "        sortedList = sorted(movies_df, key=itemgetter('rating'), reverse=True)\n",
    "        # movies_df = movies_df(by=['rating'], ascending=False)\n",
    "\n",
    "#         print(sortedList[0:5])"
   ]
  },
  {
   "cell_type": "code",
   "execution_count": 27,
   "metadata": {
    "collapsed": false,
    "scrolled": true
   },
   "outputs": [
    {
     "name": "stdout",
     "output_type": "stream",
     "text": [
      "Movies we will recommend:\n",
      "{'movie_id': 1, 'title': 'The Sheriff 1', 'genre': 'crime drama, western'}\n",
      "{'movie_id': 1, 'rating': 1.6009190391276209, 'title': 'The Sheriff 1', 'genre': 'crime drama, western'}\n",
      "{'movie_id': 2, 'title': 'The Big City Judge 1', 'genre': 'legal drama'}\n",
      "{'movie_id': 2, 'rating': 1.2828161251196852, 'title': 'The Big City Judge 1', 'genre': 'legal drama'}\n",
      "{'movie_id': 3, 'title': 'The Sheriff 2', 'genre': 'crime drama, western'}\n",
      "{'movie_id': 3, 'rating': 1.3882072590088841, 'title': 'The Sheriff 2', 'genre': 'crime drama, western'}\n",
      "{'movie_id': 4, 'title': 'Just a Regular Family', 'genre': 'reality'}\n",
      "{'movie_id': 4, 'rating': 1.3782447542093494, 'title': 'Just a Regular Family', 'genre': 'reality'}\n",
      "{'movie_id': 5, 'title': 'The Big City Judge 2', 'genre': 'legal drama'}\n",
      "{'movie_id': 5, 'rating': 1.1933235544518757, 'title': 'The Big City Judge 2', 'genre': 'legal drama'}\n",
      "{'movie_id': 6, 'title': 'Attack on Earth 1', 'genre': 'sci-fi, action'}\n",
      "{'movie_id': 6, 'rating': 1.5722385821149254, 'title': 'Attack on Earth 1', 'genre': 'sci-fi, action'}\n",
      "{'movie_id': 7, 'title': 'The Secret Box', 'genre': 'sci-fi, mystery, fantasy'}\n",
      "{'movie_id': 7, 'rating': 1.5199460395279527, 'title': 'The Secret Box', 'genre': 'sci-fi, mystery, fantasy'}\n",
      "{'movie_id': 8, 'title': 'Sci-Fi Murder Detectives', 'genre': 'supernatural, mystery'}\n",
      "{'movie_id': 8, 'rating': 1.1895623223076515, 'title': 'Sci-Fi Murder Detectives', 'genre': 'supernatural, mystery'}\n",
      "{'movie_id': 9, 'title': 'Biker Gangs', 'genre': 'crime drama, action'}\n",
      "{'movie_id': 9, 'rating': 1.4623493760643647, 'title': 'Biker Gangs', 'genre': 'crime drama, action'}\n",
      "{'movie_id': 10, 'title': 'Surrounded by Zombies 1', 'genre': 'horror, zombie fiction'}\n",
      "{'movie_id': 10, 'rating': 1.7077110406074936, 'title': 'Surrounded by Zombies 1', 'genre': 'horror, zombie fiction'}\n",
      "{'movie_id': 11, 'title': 'Inspector Jackson', 'genre': 'detective drama, mystery'}\n",
      "{'movie_id': 11, 'rating': 1.1563452916516892, 'title': 'Inspector Jackson', 'genre': 'detective drama, mystery'}\n",
      "{'movie_id': 12, 'title': 'Horrorfest', 'genre': 'horror'}\n",
      "{'movie_id': 12, 'rating': 1.550603840255234, 'title': 'Horrorfest', 'genre': 'horror'}\n",
      "{'movie_id': 13, 'title': 'The Sheriff 3', 'genre': 'crime drama, western'}\n",
      "{'movie_id': 13, 'rating': 1.4140006852254139, 'title': 'The Sheriff 3', 'genre': 'crime drama, western'}\n",
      "{'movie_id': 14, 'title': 'The Spy Family', 'genre': 'spy drama'}\n",
      "{'movie_id': 14, 'rating': 1.7547041991070917, 'title': 'The Spy Family', 'genre': 'spy drama'}\n",
      "{'movie_id': 15, 'title': 'We Will Fight Those Aliens', 'genre': 'sci-fi, action'}\n",
      "{'movie_id': 15, 'rating': 1.6081571555793992, 'title': 'We Will Fight Those Aliens', 'genre': 'sci-fi, action'}\n",
      "{'movie_id': 16, 'title': 'Master Criminal', 'genre': 'thriller, horror, crime drama'}\n",
      "{'movie_id': 16, 'rating': 1.411647642940719, 'title': 'Master Criminal', 'genre': 'thriller, horror, crime drama'}\n",
      "{'movie_id': 17, 'title': 'Singing Telegram', 'genre': 'musical, comedy'}\n",
      "{'movie_id': 17, 'rating': 1.5049541309353409, 'title': 'Singing Telegram', 'genre': 'musical, comedy'}\n",
      "{'movie_id': 18, 'title': 'Bad Teachers', 'genre': 'comedy'}\n",
      "{'movie_id': 18, 'rating': 1.62930062501349, 'title': 'Bad Teachers', 'genre': 'comedy'}\n",
      "{'movie_id': 19, 'title': 'Fake News about Fake News', 'genre': 'satire, comedy'}\n",
      "{'movie_id': 19, 'rating': 0.92757264568990105, 'title': 'Fake News about Fake News', 'genre': 'satire, comedy'}\n",
      "{'movie_id': 20, 'title': 'Buy My App', 'genre': 'comedy'}\n",
      "{'movie_id': 20, 'rating': 0.97359598584623552, 'title': 'Buy My App', 'genre': 'comedy'}\n",
      "{'movie_id': 21, 'title': 'Political Gaffs', 'genre': 'comedy, political satire'}\n",
      "{'movie_id': 21, 'rating': 1.1946204434150054, 'title': 'Political Gaffs', 'genre': 'comedy, political satire'}\n",
      "{'movie_id': 22, 'title': 'Attack on Earth 2', 'genre': 'sci-fi, action'}\n",
      "{'movie_id': 22, 'rating': 1.3562359825691901, 'title': 'Attack on Earth 2', 'genre': 'sci-fi, action'}\n",
      "{'movie_id': 23, 'title': 'Trapped in Space', 'genre': 'sci-fi, mystery'}\n",
      "{'movie_id': 23, 'rating': 0.99395397553833975, 'title': 'Trapped in Space', 'genre': 'sci-fi, mystery'}\n",
      "{'movie_id': 24, 'title': 'The Big City Judge 3', 'genre': 'legal drama'}\n",
      "{'movie_id': 24, 'rating': 1.3590525321454783, 'title': 'The Big City Judge 3', 'genre': 'legal drama'}\n",
      "{'movie_id': 25, 'title': 'Drugs & Guns', 'genre': 'crime drama'}\n",
      "{'movie_id': 25, 'rating': 1.470249341472055, 'title': 'Drugs & Guns', 'genre': 'crime drama'}\n",
      "{'movie_id': 26, 'title': 'Mafia Underground', 'genre': 'crime drama, thriller'}\n",
      "{'movie_id': 26, 'rating': 0.85886277517267917, 'title': 'Mafia Underground', 'genre': 'crime drama, thriller'}\n",
      "{'movie_id': 27, 'title': 'Surrounded by Zombies 2', 'genre': 'horror, zombie fiction'}\n",
      "{'movie_id': 27, 'rating': 0.69193572783728741, 'title': 'Surrounded by Zombies 2', 'genre': 'horror, zombie fiction'}\n",
      "{'movie_id': 28, 'title': 'The Sheriff 4', 'genre': 'crime drama, western'}\n",
      "{'movie_id': 28, 'rating': 1.3443259625960291, 'title': 'The Sheriff 4', 'genre': 'crime drama, western'}\n",
      "{'movie_id': 29, 'title': 'Post-Apocalyptia 1', 'genre': 'sci-fi, thriller, mystery'}\n",
      "{'movie_id': 29, 'rating': 1.3801610993290925, 'title': 'Post-Apocalyptia 1', 'genre': 'sci-fi, thriller, mystery'}\n",
      "{'movie_id': 30, 'title': 'Post-Apocalyptia 2', 'genre': 'sci-fi, thriller, mystery'}\n",
      "{'movie_id': 30, 'rating': 1.5009325053286706, 'title': 'Post-Apocalyptia 2', 'genre': 'sci-fi, thriller, mystery'}\n"
     ]
    }
   ],
   "source": [
    "livePrediction(\"user_features.dat\",\"product_features.dat\",\"predicted_ratings.dat\",5)"
   ]
  },
  {
   "cell_type": "code",
   "execution_count": 41,
   "metadata": {
    "collapsed": false
   },
   "outputs": [
    {
     "data": {
      "text/plain": [
       "'fa'"
      ]
     },
     "execution_count": 41,
     "metadata": {},
     "output_type": "execute_result"
    }
   ],
   "source": [
    "dict = {1:\"fa\", 2:\"fasdf\", 3:\"dsf\", 4:\"dssff\", 5:\"ret\"}\n",
    "\n",
    "dict[1]"
   ]
  }
 ],
 "metadata": {
  "kernelspec": {
   "display_name": "Python 3",
   "language": "python",
   "name": "python3"
  },
  "language_info": {
   "codemirror_mode": {
    "name": "ipython",
    "version": 3
   },
   "file_extension": ".py",
   "mimetype": "text/x-python",
   "name": "python",
   "nbconvert_exporter": "python",
   "pygments_lexer": "ipython3",
   "version": "3.5.2"
  }
 },
 "nbformat": 4,
 "nbformat_minor": 0
}
