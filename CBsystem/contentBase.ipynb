{
 "cells": [
  {
   "cell_type": "code",
   "execution_count": 8,
   "metadata": {
    "collapsed": false
   },
   "outputs": [
    {
     "name": "stdout",
     "output_type": "stream",
     "text": [
      "{'genres': ['Adventure', ' Drama', ' Sci-Fi'], 'title': '20,000 Leagues Under the Sea (1954)', 'movieId': 1019}\n"
     ]
    }
   ],
   "source": [
    "import numpy as np\n",
    "import pandas as pd\n",
    "import json\n",
    "\n",
    "with open('data/40k_movies_data.json') as data_file:    \n",
    "    movies_df = json.load(data_file)\n",
    "print(movies_df[1000])"
   ]
  },
  {
   "cell_type": "code",
   "execution_count": 19,
   "metadata": {
    "collapsed": false
   },
   "outputs": [],
   "source": [
    "def algo(comparableItem):\n",
    "    list = []\n",
    "    bestScore = 0\n",
    "    for movie in movies_df:\n",
    "        if movie['movieId'] != comparableItem['movieId']:\n",
    "            matchScore = 0\n",
    "            for j in range(len(comparableItem['genres'])):\n",
    "                for i in range(len(movie['genres'])):\n",
    "                    if comparableItem['genres'][j]==movie['genres'][i]:\n",
    "                        matchScore+=1\n",
    "            if matchScore >= bestScore:\n",
    "                bestMatch = movie\n",
    "                list.append(movie)\n",
    "                bestScore = matchScore\n",
    "#             if matchScore > 1 and len(movie['genres']) <= len(comparableItem['genres'])+1:\n",
    "#                 list.append(movie)\n",
    "#     list.append(bestMatch)\n",
    "    list.reverse()\n",
    "#     return bestMatch\n",
    "    return list[0:10]"
   ]
  },
  {
   "cell_type": "code",
   "execution_count": 20,
   "metadata": {
    "collapsed": false
   },
   "outputs": [
    {
     "data": {
      "text/plain": [
       "[{'genres': ['Adventure', ' Drama', ' Sci-Fi', ' Thriller'],\n",
       "  'movieId': 164453,\n",
       "  'title': 'Failure of Engineer Garin (1973)'},\n",
       " {'genres': ['Adventure',\n",
       "   ' Children',\n",
       "   ' Comedy',\n",
       "   ' Drama',\n",
       "   ' Fantasy',\n",
       "   ' Sci-Fi'],\n",
       "  'movieId': 148775,\n",
       "  'title': 'Wizards of Waverly Place: The Movie (2009)'},\n",
       " {'genres': ['Adventure', ' Drama', ' Sci-Fi'],\n",
       "  'movieId': 148080,\n",
       "  'title': 'Hard to Be a God (1989)'},\n",
       " {'genres': ['Adventure', ' Children', ' Drama', ' Sci-Fi'],\n",
       "  'movieId': 147380,\n",
       "  'title': 'Doctor Who: The Next Doctor (2008)'},\n",
       " {'genres': ['Adventure', ' Children', ' Drama', ' Sci-Fi'],\n",
       "  'movieId': 147378,\n",
       "  'title': 'Doctor Who: Planet of the Dead (2009)'},\n",
       " {'genres': ['Adventure', ' Drama', ' Fantasy', ' Sci-Fi'],\n",
       "  'movieId': 147372,\n",
       "  'title': 'Doctor Who: Last Christmas (2014)'},\n",
       " {'genres': ['Adventure', ' Drama', ' Romance', ' Sci-Fi'],\n",
       "  'movieId': 147248,\n",
       "  'title': 'The Isle of Lost Ships (1987)'},\n",
       " {'genres': ['Adventure', ' Drama', ' Sci-Fi'],\n",
       "  'movieId': 142863,\n",
       "  'title': 'Crumbs (2015)'},\n",
       " {'genres': ['Adventure', ' Drama', ' Sci-Fi'],\n",
       "  'movieId': 134130,\n",
       "  'title': 'The Martian (2015)'},\n",
       " {'genres': ['Adventure', ' Children', ' Drama', ' Sci-Fi'],\n",
       "  'movieId': 128181,\n",
       "  'title': 'Cody the Robosapien (2013)'}]"
      ]
     },
     "execution_count": 20,
     "metadata": {},
     "output_type": "execute_result"
    }
   ],
   "source": [
    "algo(movies_df[1000])"
   ]
  },
  {
   "cell_type": "code",
   "execution_count": 491,
   "metadata": {
    "collapsed": false
   },
   "outputs": [],
   "source": [
    "# #convert file\n",
    "# with open('data/40k_movies_data.json') as data_file:    \n",
    "#     data = json.load(data_file)\n",
    "\n",
    "# for item in data:\n",
    "#     str = item['genres']\n",
    "#     wards = str.split(',')\n",
    "#     item['genres'] = wards\n",
    "\n",
    "# with open('data/40k_movies_data.json', 'w') as outfile:\n",
    "#     json.dump(data, outfile)"
   ]
  }
 ],
 "metadata": {
  "kernelspec": {
   "display_name": "Python 3",
   "language": "python",
   "name": "python3"
  },
  "language_info": {
   "codemirror_mode": {
    "name": "ipython",
    "version": 3.0
   },
   "file_extension": ".py",
   "mimetype": "text/x-python",
   "name": "python",
   "nbconvert_exporter": "python",
   "pygments_lexer": "ipython3",
   "version": "3.5.2"
  }
 },
 "nbformat": 4,
 "nbformat_minor": 0
}